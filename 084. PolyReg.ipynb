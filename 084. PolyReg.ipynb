{
 "cells": [
  {
   "cell_type": "code",
   "execution_count": 200,
   "metadata": {},
   "outputs": [],
   "source": [
    "import numpy as np\n",
    "import pandas as pd\n",
    "import matplotlib.pyplot as plt\n",
    "from sklearn.linear_model import LinearRegression\n",
    "from sklearn.preprocessing import PolynomialFeatures\n",
    "\n",
    "# Read the dataset into a dataframe\n",
    "df = pd.read_excel(r'C:\\ML101\\Curve.xlsx')\n",
    "\n",
    "# Place the ranges in a variable and preprocess\n",
    "x = df['x'].values\n",
    "y = df['y'].values\n",
    "x = x.reshape(-1, 1)\n",
    "\n",
    "# Change the order here. degree is same as M\n",
    "poly = PolynomialFeatures(degree=11)\n",
    "\n",
    "# Fit a Polynomial Curve\n",
    "X_poly = poly.fit_transform(x)\n",
    "poly.fit(X_poly, y)\n",
    "linreg = LinearRegression()\n",
    "linreg.fit(X_poly, y)\n",
    "y_pred = linreg.predict(X_poly)\n",
    "\n",
    "\n",
    "# Plot the curves. The regression line is in red\n",
    "plt.scatter(x,y, color='blue')\n",
    "plt.plot(x, y_pred, color='red')\n",
    "plt.show()"
   ]
  }
 ],
 "metadata": {
  "kernelspec": {
   "display_name": "Python 3",
   "language": "python",
   "name": "python3"
  },
  "language_info": {
   "codemirror_mode": {
    "name": "ipython",
    "version": 3
   },
   "file_extension": ".py",
   "mimetype": "text/x-python",
   "name": "python",
   "nbconvert_exporter": "python",
   "pygments_lexer": "ipython3",
   "version": "3.7.6"
  }
 },
 "nbformat": 4,
 "nbformat_minor": 2
}
